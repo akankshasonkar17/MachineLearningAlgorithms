{
 "cells": [
  {
   "cell_type": "markdown",
   "metadata": {
    "deletable": true,
    "editable": true
   },
   "source": [
    "**Exercise 1: Linear Regression**\n",
    "\n",
    "This is the first programming assignment for the ML-Course "
   ]
  },
  {
   "cell_type": "code",
   "execution_count": 68,
   "metadata": {
    "collapsed": true,
    "deletable": true,
    "editable": true
   },
   "outputs": [],
   "source": [
    "import matplotlib.pyplot as pl\n",
    "import numpy as np\n",
    "# import seaborn as sns\n",
    "import warnings"
   ]
  },
  {
   "cell_type": "code",
   "execution_count": 69,
   "metadata": {
    "collapsed": false,
    "deletable": true,
    "editable": true
   },
   "outputs": [],
   "source": [
    "warnings.filterwarnings('ignore')\n",
    "%matplotlib inline\n",
    "# sns.set_style(\"darkgrid\")\n",
    "\n",
    "f = open('ex1data1.txt')\n",
    "raw = f.read()\n",
    "lines = filter(lambda x: len(x.strip()) > 0, raw.split('\\n'))\n",
    "x, y = [], []\n",
    "for line in lines:\n",
    "    xval, yval = map(float, line.split(','))\n",
    "    x.append(xval)\n",
    "    y.append(yval)\n",
    "    \n",
    "xnp = np.array(x).reshape((len(x),1))\n",
    "ynp = np.array(y).reshape((len(y), 1))"
   ]
  },
  {
   "cell_type": "markdown",
   "metadata": {
    "deletable": true,
    "editable": true
   },
   "source": [
    "**Plot the raw data in matplotlib**"
   ]
  },
  {
   "cell_type": "code",
   "execution_count": 70,
   "metadata": {
    "collapsed": false,
    "deletable": true,
    "editable": true,
    "scrolled": true
   },
   "outputs": [
    {
     "data": {
      "image/png": "[encoded data removed]",
      "text/plain": [
       "<matplotlib.figure.Figure at 0x11010e450>"
      ]
     },
     "metadata": {},
     "output_type": "display_data"
    }
   ],
   "source": [
    "pl.scatter(xnp, ynp)\n",
    "pl.ylabel('Profit in $10,000s')\n",
    "pl.xlabel('Population of City in 10,000s')\n",
    "pl.show()"
   ]
  },
  {
   "cell_type": "code",
   "execution_count": 71,
   "metadata": {
    "collapsed": true,
    "deletable": true,
    "editable": true
   },
   "outputs": [],
   "source": [
    "def get_cost(x, y, h):\n",
    "    m, n = x.shape\n",
    "    fm = float(m)    \n",
    "    return ((1/(2*fm)) * np.dot((h-y).transpose(),(h-y)))"
   ]
  },
  {
   "cell_type": "markdown",
   "metadata": {
    "deletable": true,
    "editable": true
   },
   "source": [
    "**Gradient Descent function**"
   ]
  },
  {
   "cell_type": "code",
   "execution_count": 72,
   "metadata": {
    "collapsed": false,
    "deletable": true,
    "editable": true
   },
   "outputs": [],
   "source": [
    "def gradient_descent(x, y):\n",
    "    m, n = x.shape\n",
    "    fm = float(m)\n",
    "    X = np.append(np.ones((m, 1)), x, 1)\n",
    "    thetas = np.zeros((n+1, 1))\n",
    "    \n",
    "    print 'X' \n",
    "    print X[:4]\n",
    "    print 'Thetas' \n",
    "    print thetas\n",
    "    \n",
    "    iterations = 15000\n",
    "    alpha = 0.01\n",
    "    j = np.zeros(iterations)\n",
    "    \n",
    "    for i in range(iterations):\n",
    "        h = X.dot(thetas)\n",
    "        diff = h - y\n",
    "        d = X.T.dot(diff)\n",
    "        thetas = thetas - (1/fm)*alpha*d\n",
    "        j[i] = get_cost(x, y, h)\n",
    "        \n",
    "    return [thetas, j]"
   ]
  },
  {
   "cell_type": "markdown",
   "metadata": {
    "deletable": true,
    "editable": true
   },
   "source": [
    "Get the result of gradient descent, and print the cost function over time"
   ]
  },
  {
   "cell_type": "code",
   "execution_count": 73,
   "metadata": {
    "collapsed": false,
    "deletable": true,
    "editable": true
   },
   "outputs": [
    {
     "name": "stdout",
     "output_type": "stream",
     "text": [
      "X\n",
      "[[ 1.      6.1101]\n",
      " [ 1.      5.5277]\n",
      " [ 1.      8.5186]\n",
      " [ 1.      7.0032]]\n",
      "Thetas\n",
      "[[ 0.]\n",
      " [ 0.]]\n"
     ]
    },
    {
     "data": {
      "image/png": "[encoded data removed]",
      "text/plain": [
       "<matplotlib.figure.Figure at 0x110a35850>"
      ]
     },
     "metadata": {},
     "output_type": "display_data"
    }
   ],
   "source": [
    "thetas, j = gradient_descent(xnp, ynp)\n",
    "X = np.append(np.ones((xnp.shape[0], 1)), xnp, 1)\n",
    "Y = X.dot(thetas)\n",
    "\n",
    "pl.plot(j)\n",
    "pl.show()"
   ]
  },
  {
   "cell_type": "markdown",
   "metadata": {
    "deletable": true,
    "editable": true
   },
   "source": [
    "View the linear regression graph"
   ]
  },
  {
   "cell_type": "code",
   "execution_count": 74,
   "metadata": {
    "collapsed": false,
    "deletable": true,
    "editable": true
   },
   "outputs": [
    {
     "data": {
      "image/png": "[encoded data removed]",
      "text/plain": [
       "<matplotlib.figure.Figure at 0x110bfa510>"
      ]
     },
     "metadata": {},
     "output_type": "display_data"
    }
   ],
   "source": [
    "pl.scatter(xnp, ynp)\n",
    "pl.ylabel('Profit in $10,000s')\n",
    "pl.xlabel('Population of City in 10,000s')\n",
    "pl.plot(xnp, Y)\n",
    "pl.show()"
   ]
  },
  {
   "cell_type": "markdown",
   "metadata": {
    "collapsed": true,
    "deletable": true,
    "editable": true
   },
   "source": [
    "Try predicting some values"
   ]
  },
  {
   "cell_type": "code",
   "execution_count": 78,
   "metadata": {
    "collapsed": false,
    "deletable": true,
    "editable": true
   },
   "outputs": [
    {
     "data": {
      "image/png": "[encoded data removed]",
      "text/plain": [
       "<matplotlib.figure.Figure at 0x110430990>"
      ]
     },
     "metadata": {},
     "output_type": "display_data"
    }
   ],
   "source": [
    "def predict(x, thetas):\n",
    "    xarr = np.array([1, x])\n",
    "    pred = xarr.T.dot(thetas)\n",
    "    return pred[0]\n",
    "\n",
    "prediction = predict(43, thetas)\n",
    "\n",
    "#Plot the predicted value\n",
    "pl.scatter(xnp, ynp)\n",
    "pl.ylabel('Profit in $10,000s')\n",
    "pl.xlabel('Population of City in 10,000s')\n",
    "pX = np.arange(50)\n",
    "pY = np.array([k*thetas[1] + thetas[0] for k in pX])\n",
    "pl.plot(pX, pY)\n",
    "pl.scatter([43], [prediction], marker='x', c='r')\n",
    "pl.show()"
   ]
  }
 ],
 "metadata": {
  "kernelspec": {
   "display_name": "Python 2",
   "language": "python",
   "name": "python2"
  },
  "language_info": {
   "codemirror_mode": {
    "name": "ipython",
    "version": 2
   },
   "file_extension": ".py",
   "mimetype": "text/x-python",
   "name": "python",
   "nbconvert_exporter": "python",
   "pygments_lexer": "ipython2",
   "version": "2.7.13"
  }
 },
 "nbformat": 4,
 "nbformat_minor": 2
}
